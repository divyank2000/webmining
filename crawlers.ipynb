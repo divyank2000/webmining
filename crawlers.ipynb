{
 "cells": [
  {
   "cell_type": "code",
   "execution_count": 1,
   "id": "51f97a09",
   "metadata": {},
   "outputs": [],
   "source": [
    "import requests\n",
    "from bs4 import BeautifulSoup\n",
    "import re"
   ]
  },
  {
   "cell_type": "code",
   "execution_count": null,
   "id": "30c941d4",
   "metadata": {},
   "outputs": [],
   "source": [
    "#Question 1\n",
    "#Given a seed/root URL, e.g., \"Vit.ac.in\", Design a simple crawler to return all pages (URLs) that contains a keyword \"research\" from this site. (25 pages). Store the crawled urls into a .txt/ .csv/ .xls file for quick retrieval in future. (CT)"
   ]
  },
  {
   "cell_type": "code",
   "execution_count": 2,
   "id": "a85a50e7",
   "metadata": {},
   "outputs": [],
   "source": [
    "root = \"http://www.vit.ac.in\"\n",
    "search = \"research\""
   ]
  },
  {
   "cell_type": "code",
   "execution_count": 8,
   "id": "55913a11",
   "metadata": {},
   "outputs": [
    {
     "name": "stdout",
     "output_type": "stream",
     "text": [
      "Status of the response :  200\n"
     ]
    }
   ],
   "source": [
    "\n",
    "resp = requests.get(root)\n",
    "print(\"Status of the response : \", resp.status_code)"
   ]
  },
  {
   "cell_type": "code",
   "execution_count": 9,
   "id": "53268f62",
   "metadata": {},
   "outputs": [],
   "source": [
    "\n",
    "root_page = BeautifulSoup(resp.content, 'html.parser')"
   ]
  },
  {
   "cell_type": "code",
   "execution_count": 10,
   "id": "ce3f20ed",
   "metadata": {},
   "outputs": [],
   "source": [
    "anchor_tags = root_page.find_all('a')\n",
    "\n",
    "result = []\n",
    "for anchor_tag in anchor_tags :\n",
    "    link = anchor_tag['href']\n",
    "    if re.search(search, link, re.IGNORECASE) :\n",
    "        result.append(link)"
   ]
  },
  {
   "cell_type": "code",
   "execution_count": 11,
   "id": "5d8d7fc9",
   "metadata": {},
   "outputs": [
    {
     "name": "stdout",
     "output_type": "stream",
     "text": [
      "The links which conatins word 'research' are :\n",
      "\t https://vit.ac.in/admissions/research\n",
      "\t https://vit.ac.in/admissions/research/Integrated_Ph.D\n",
      "\t https://vit.ac.in/admissions/research/phd\n",
      "\t https://vit.ac.in/research\n",
      "\t https://vit.ac.in/research\n",
      "\t https://vit.ac.in/research/academic\n",
      "\t https://vit.ac.in/research/sponsored-research\n",
      "\t https://vit.ac.in/research/centers-list\n",
      "\t 3d-printing-play-major-role-mitigating-spread-covid-19-say-researchers-vit\n",
      "\t 3d-printing-play-major-role-mitigating-spread-covid-19-say-researchers-vit\n",
      "\t https://vit.ac.in/research\n"
     ]
    }
   ],
   "source": [
    "print(\"The links which conatins word 'research' are :\")\n",
    "for url in result :\n",
    "    print(\"\\t\", url)"
   ]
  },
  {
   "cell_type": "code",
   "execution_count": null,
   "id": "f0cbb6f1",
   "metadata": {},
   "outputs": [],
   "source": [
    "#Question 2\n",
    "#Find documents that contain the word “admissions” and the word “international” within the URL “Vit.ac.in” using Python. (25 pages)"
   ]
  },
  {
   "cell_type": "code",
   "execution_count": 26,
   "id": "0f19dbac",
   "metadata": {},
   "outputs": [],
   "source": [
    "import requests\n",
    "from bs4 import BeautifulSoup\n",
    "import re\n",
    "import certifi"
   ]
  },
  {
   "cell_type": "code",
   "execution_count": 27,
   "id": "f47ef949",
   "metadata": {},
   "outputs": [],
   "source": [
    "URL = \"https://vit.ac.in/\"\n",
    "search = [\"admissions\",\"international\"]"
   ]
  },
  {
   "cell_type": "code",
   "execution_count": 28,
   "id": "2598bab6",
   "metadata": {},
   "outputs": [
    {
     "name": "stdout",
     "output_type": "stream",
     "text": [
      "Status of the response :  200\n"
     ]
    }
   ],
   "source": [
    "respo = requests.get(URL)\n",
    "print(\"Status of the response : \",respo.status_code)"
   ]
  },
  {
   "cell_type": "code",
   "execution_count": 29,
   "id": "a38f5823",
   "metadata": {},
   "outputs": [],
   "source": [
    "soup = BeautifulSoup(respo.content,\"html.parser\")"
   ]
  },
  {
   "cell_type": "code",
   "execution_count": 30,
   "id": "8c8429c6",
   "metadata": {},
   "outputs": [],
   "source": [
    "anchorTags = soup.find_all('a')"
   ]
  },
  {
   "cell_type": "code",
   "execution_count": 18,
   "id": "3186e58e",
   "metadata": {},
   "outputs": [
    {
     "name": "stdout",
     "output_type": "stream",
     "text": [
      "The number of documents/pages linked to the current root page is :  166\n"
     ]
    }
   ],
   "source": [
    "valid = []\n",
    "for anchorTag in anchorTags:\n",
    "    URLl = anchorTag[\"href\"]\n",
    "    if URLl.startswith(\"http\"):\n",
    "        if URLl not in valid:\n",
    "            valid.append(URLl)\n",
    "print(\"The number of documents/pages linked to the current root page is : \", len(valid))"
   ]
  },
  {
   "cell_type": "code",
   "execution_count": 19,
   "id": "cc3b169c",
   "metadata": {},
   "outputs": [],
   "source": [
    "result=[]\n",
    "failed=[]\n"
   ]
  },
  {
   "cell_type": "code",
   "execution_count": 25,
   "id": "c3b6066c",
   "metadata": {},
   "outputs": [
    {
     "name": "stderr",
     "output_type": "stream",
     "text": [
      "C:\\Users\\divyank\\anaconda3\\lib\\site-packages\\urllib3\\connectionpool.py:1013: InsecureRequestWarning: Unverified HTTPS request is being made to host 'chennai.vit.ac.in'. Adding certificate verification is strongly advised. See: https://urllib3.readthedocs.io/en/latest/advanced-usage.html#ssl-warnings\n",
      "  warnings.warn(\n",
      "C:\\Users\\divyank\\anaconda3\\lib\\site-packages\\urllib3\\connectionpool.py:1013: InsecureRequestWarning: Unverified HTTPS request is being made to host 'vit.ac.in'. Adding certificate verification is strongly advised. See: https://urllib3.readthedocs.io/en/latest/advanced-usage.html#ssl-warnings\n",
      "  warnings.warn(\n",
      "C:\\Users\\divyank\\anaconda3\\lib\\site-packages\\urllib3\\connectionpool.py:1013: InsecureRequestWarning: Unverified HTTPS request is being made to host 'careers.vit.ac.in'. Adding certificate verification is strongly advised. See: https://urllib3.readthedocs.io/en/latest/advanced-usage.html#ssl-warnings\n",
      "  warnings.warn(\n",
      "C:\\Users\\divyank\\anaconda3\\lib\\site-packages\\urllib3\\connectionpool.py:1013: InsecureRequestWarning: Unverified HTTPS request is being made to host 'vit.ac.in'. Adding certificate verification is strongly advised. See: https://urllib3.readthedocs.io/en/latest/advanced-usage.html#ssl-warnings\n",
      "  warnings.warn(\n",
      "C:\\Users\\divyank\\anaconda3\\lib\\site-packages\\urllib3\\connectionpool.py:1013: InsecureRequestWarning: Unverified HTTPS request is being made to host 'vittbi.com'. Adding certificate verification is strongly advised. See: https://urllib3.readthedocs.io/en/latest/advanced-usage.html#ssl-warnings\n",
      "  warnings.warn(\n",
      "C:\\Users\\divyank\\anaconda3\\lib\\site-packages\\urllib3\\connectionpool.py:1013: InsecureRequestWarning: Unverified HTTPS request is being made to host 'careers.vit.ac.in'. Adding certificate verification is strongly advised. See: https://urllib3.readthedocs.io/en/latest/advanced-usage.html#ssl-warnings\n",
      "  warnings.warn(\n"
     ]
    }
   ],
   "source": [
    "for link in valid :\n",
    "    try :\n",
    "        page = requests.get(link).text\n",
    "    except requests.ConnectionError :\n",
    "        try :\n",
    "            page = requests.get(link, verify=False).text\n",
    "        except :\n",
    "            failed.append(link)\n",
    "            continue\n",
    "    \n",
    "    if (re.search(search[0], page, re.IGNORECASE)) and (re.search(search[1], page, re.IGNORECASE)) :\n",
    "            result.append(link)\n"
   ]
  },
  {
   "cell_type": "code",
   "execution_count": 23,
   "id": "51cb339e",
   "metadata": {},
   "outputs": [
    {
     "name": "stdout",
     "output_type": "stream",
     "text": [
      "The links containing the word 'admissions' and the word 'international' are:\n",
      "Number of links for this conditions is:  112\n",
      "\t http://chennai.vit.ac.in/\n",
      "\t https://vitap.ac.in/\n",
      "\t https://vitbhopal.ac.in/\n",
      "\t https://vit.ac.in\n",
      "\t https://vit.ac.in/about-vit\n",
      "\t https://vit.ac.in/about/vision-mission\n",
      "\t https://vit.ac.in/vit-milestones\n",
      "\t https://vit.ac.in/about/leadership\n",
      "\t https://vit.ac.in/governance\n",
      "\t https://vit.ac.in/about/administrative-offices\n",
      "\t https://vit.ac.in/about/infrastructure\n",
      "\t https://vit.ac.in/about/ranking-and-accreditation\n",
      "\t https://vit.ac.in/about/sustainability\n",
      "\t https://vit.ac.in/true-green\n",
      "\t https://vit.ac.in/about/community-outreach\n",
      "\t https://vit.ac.in/about/communityradio\n",
      "\t https://vit.ac.in/all-news-archieved\n",
      "\t https://vit.ac.in/all-events\n",
      "\t https://vit.ac.in/national-institutional-ranking-framework-nirf\n",
      "\t https://vit.ac.in/mhrdugc\n",
      "\t https://vit.ac.in/about/news-letter\n",
      "\t https://vit.ac.in/academics/home\n",
      "\t https://vit.ac.in/programmes-offered-1\n",
      "\t https://vit.ac.in/programmes-offered-2021-22\n",
      "\t https://vit.ac.in/programmes-offered-2020-21\n",
      "\t https://vit.ac.in/schools\n",
      "\t https://vit.ac.in/academics/ffcs\n",
      "\t https://vit.ac.in/academics/library\n",
      "\t https://vit.ac.in/academics-feedback\n",
      "\t https://vit.ac.in/admissions/overview\n",
      "\t https://vit.ac.in/admissions/programmes-offered\n",
      "\t https://vit.ac.in/all-courses/ug\n",
      "\t https://vit.ac.in/all-courses/pg\n",
      "\t https://vit.ac.in/admissions/research\n",
      "\t https://vit.ac.in/admissions/research/Integrated_Ph.D\n",
      "\t https://vit.ac.in/admissions/research/phd\n",
      "\t https://vit.ac.in/admissions/international\n",
      "\t https://vit.ac.in/stars-support-advancement-rural-students-0\n",
      "\t https://vit.ac.in/placements/overview\n",
      "\t https://vit.ac.in/career-development-centre\n",
      "\t https://vit.ac.in/placements/superdreamoffers\n",
      "\t https://vit.ac.in/placements/dreamoffers\n",
      "\t https://vit.ac.in/placements/internship\n",
      "\t https://vit.ac.in/placements/statistics\n",
      "\t https://vit.ac.in/placements/pat-Office\n",
      "\t https://vit.ac.in/placements/contact-us\n",
      "\t https://vit.ac.in/InternationalRelations\n",
      "\t https://vit.ac.in/internationalrelations/itp\n",
      "\t https://vit.ac.in/internationalrelations/partneruniversities\n",
      "\t https://vit.ac.in/internationalrelations/sap\n",
      "\t https://vit.ac.in/admissions/international/overview\n",
      "\t https://vit.ac.in/academics-more/Contact us\n",
      "\t https://vit.ac.in/research\n",
      "\t https://vit.ac.in/research/academic\n",
      "\t https://vit.ac.in/research/sponsored-research\n",
      "\t https://vit.ac.in/iprcell\n",
      "\t https://vit.ac.in/research/centers-list\n",
      "\t https://vit.ac.in/campuslife/overview\n",
      "\t https://vit.ac.in/campuslife/fests\n",
      "\t https://vit.ac.in/campuslife/studentswelfare\n",
      "\t https://vit.ac.in/campus-category/Clubs\n",
      "\t https://vit.ac.in/campus-category/Chapters\n",
      "\t https://vit.ac.in/campus-category/Campus-Events\n",
      "\t https://vit.ac.in/campus-category/Counselling-Division\n",
      "\t https://vit.ac.in/campus-category/grievancecell\n",
      "\t https://vit.ac.in/campus-category/Student-Council\n",
      "\t https://vit.ac.in/campuslife/sports\n",
      "\t https://vit.ac.in/campuslife/hostels\n",
      "\t https://vit.ac.in/campuslife/healthservices\n",
      "\t https://vit.ac.in/campuslife/otheramenities\n",
      "\t https://vit.ac.in/detailview/green-vit\n",
      "\t https://vit.ac.in/academics/coe\n",
      "\t https://vit.ac.in/transcripts-alumni\n",
      "\t https://vit.ac.in/coe-email-contacts\n",
      "\t https://vit.ac.in/centers/asc\n",
      "\t https://vit.ac.in/guest-house\n",
      "\t https://vit.ac.in/redressal\n",
      "\t https://vit.ac.in/hotels-in-vellore\n",
      "\t https://vit.ac.in/anti-ragging-committee\n",
      "\t https://vit.ac.in/capability-enhancement-scheme\n",
      "\t https://vit.ac.in/internal-complaints-committee\n",
      "\t https://vit.ac.in/academics/transcripts\n",
      "\t https://vit.ac.in/instruction\n",
      "\t https://vit.ac.in/alumni-events\n",
      "\t https://vit.ac.in/detailview/alumni-photo-gallery\n",
      "\t https://vit.ac.in/alumni-office-contact\n",
      "\t https://vit.ac.in/school-electronics-engineering-sense/3-days-online-workshop-thin-film-deposition-and-device\n",
      "\t https://vit.ac.in/general/online-workshop-analytical-instruments-hplc-and-uplc-0\n",
      "\t https://vit.ac.in/school-electronics-engineering-sense/one-day-online-training-python-libraries\n",
      "\t https://vit.ac.in/vit-school-agricultural-innovations-and-advanced-learning-vaial/national-farmers-day-2021\n",
      "\t https://vit.ac.in/vit-business-school-vit-bs/vit-business-school-management-fest-2022\n",
      "\t https://vit.ac.in/school-electronics-engineering-sense/second-international-conference-artificial-intelligence\n",
      "\t https://vit.ac.in/school-mechanical-engineeringsmec/27th-national-conference-internal-combustion-engines-and\n",
      "\t https://vit.ac.in/all-courses/pg/master-of-business-administration\n",
      "\t https://vit.ac.in/phd-vacancy-positions-list\n",
      "\t https://vit.ac.in/detailview/36th-convocation-photos\n",
      "\t https://vit.ac.in/vit-institution-eminence-ioe\n",
      "\t https://vit.ac.in/ariia-award\n",
      "\t https://vit.ac.in/qs-ranks-vit-one-among-top-12-institutions-india-engineering-and-technology\n",
      "\t https://vit.ac.in/vit-only-private-institution-india-shanghai-ranking-2021\n",
      "\t https://vit.ac.in/vit-university-sets-record-limca-book-records\n",
      "\t https://vit.ac.in/vit-student-won-gold-medal-archery-event-5th-pykka-national-games-held-jaipur\n",
      "\t https://vit.ac.in/36th-annual-convocation-0\n",
      "\t https://vit.ac.in/agrivaial-imparts-training-students-about-use-drones-organic-farming\n",
      "\t https://vit.ac.in/birth-anniversary-periyar-ev-ramasamy-0\n",
      "\t https://vit.ac.in/galleries\n",
      "\t https://vit.ac.in/video\n",
      "\t https://vit.ac.in/campus-hostel/hostels\n",
      "\t https://vit.ac.in/sitemap/\n",
      "\t https://vit.ac.in/academics/iqac\n",
      "\t https://vit.ac.in/contactus\n",
      "\t https://vit.ac.in/guesthouse/\n"
     ]
    }
   ],
   "source": [
    "print(\"The links containing the word 'admissions' and the word 'international' are:\") \n",
    "print(\"Number of links for this conditions is: \",len(result))\n",
    "for url in result :\n",
    "      print(\"\\t\", url)"
   ]
  },
  {
   "cell_type": "code",
   "execution_count": null,
   "id": "7fd78db3",
   "metadata": {},
   "outputs": [],
   "source": [
    "#Question 3\n",
    "#Find documents that contain the word “Programme” but not the word “programming” within the URL “Vit.ac.in” using Python. (5 pages)"
   ]
  },
  {
   "cell_type": "code",
   "execution_count": 31,
   "id": "24f322e6",
   "metadata": {},
   "outputs": [],
   "source": [
    "import requests\n",
    "from bs4 import BeautifulSoup\n",
    "import re"
   ]
  },
  {
   "cell_type": "code",
   "execution_count": 35,
   "id": "71e0f5a7",
   "metadata": {},
   "outputs": [],
   "source": [
    "URL = \"http://www.vit.ac.in\"\n",
    "searchWord1 = \"Programme\"\n",
    "searchWord2 = \"Programming\""
   ]
  },
  {
   "cell_type": "code",
   "execution_count": 36,
   "id": "f8c0e4fe",
   "metadata": {},
   "outputs": [
    {
     "ename": "NameError",
     "evalue": "name 'root_URL' is not defined",
     "output_type": "error",
     "traceback": [
      "\u001b[1;31m---------------------------------------------------------------------------\u001b[0m",
      "\u001b[1;31mNameError\u001b[0m                                 Traceback (most recent call last)",
      "\u001b[1;32m<ipython-input-36-cf9d2626bfda>\u001b[0m in \u001b[0;36m<module>\u001b[1;34m\u001b[0m\n\u001b[0;32m      1\u001b[0m \u001b[1;31m# Use the requests library to retrieve the web page of the root URL\u001b[0m\u001b[1;33m\u001b[0m\u001b[1;33m\u001b[0m\u001b[1;33m\u001b[0m\u001b[0m\n\u001b[0;32m      2\u001b[0m \u001b[1;33m\u001b[0m\u001b[0m\n\u001b[1;32m----> 3\u001b[1;33m \u001b[0mresponse\u001b[0m \u001b[1;33m=\u001b[0m \u001b[0mrequests\u001b[0m\u001b[1;33m.\u001b[0m\u001b[0mget\u001b[0m\u001b[1;33m(\u001b[0m\u001b[0mroot_URL\u001b[0m\u001b[1;33m)\u001b[0m\u001b[1;33m\u001b[0m\u001b[1;33m\u001b[0m\u001b[0m\n\u001b[0m\u001b[0;32m      4\u001b[0m \u001b[0mprint\u001b[0m\u001b[1;33m(\u001b[0m\u001b[1;34m\"Status of the response : \"\u001b[0m\u001b[1;33m,\u001b[0m \u001b[0mresponse\u001b[0m\u001b[1;33m.\u001b[0m\u001b[0mstatus_code\u001b[0m\u001b[1;33m)\u001b[0m\u001b[1;33m\u001b[0m\u001b[1;33m\u001b[0m\u001b[0m\n",
      "\u001b[1;31mNameError\u001b[0m: name 'root_URL' is not defined"
     ]
    }
   ],
   "source": [
    "response = requests.get(root_URL)\n",
    "print(\"Status of the response : \", response.status_code)"
   ]
  },
  {
   "cell_type": "code",
   "execution_count": 37,
   "id": "8c0c2849",
   "metadata": {},
   "outputs": [],
   "source": [
    "soup = BeautifulSoup(response.content, 'html.parser')"
   ]
  },
  {
   "cell_type": "code",
   "execution_count": 38,
   "id": "df282d7e",
   "metadata": {},
   "outputs": [],
   "source": [
    "anchorTags = root_page.find_all('a')"
   ]
  },
  {
   "cell_type": "code",
   "execution_count": 39,
   "id": "b6561e75",
   "metadata": {},
   "outputs": [],
   "source": [
    "validLinks = []\n",
    "\n",
    "for anchorTag in anchorTags :\n",
    "    link = anchorTag['href']\n",
    "    if link.startswith(\"http\") :\n",
    "        if link not in validLinks :\n",
    "            validLinks.append(link)"
   ]
  },
  {
   "cell_type": "code",
   "execution_count": 40,
   "id": "3ced3aa2",
   "metadata": {},
   "outputs": [
    {
     "name": "stdout",
     "output_type": "stream",
     "text": [
      "The number of documents/pages linked to the current root page is :  166\n"
     ]
    }
   ],
   "source": [
    "print(\"The number of documents/pages linked to the current root page is : \", len(validLinks))"
   ]
  },
  {
   "cell_type": "code",
   "execution_count": 41,
   "id": "ff26b599",
   "metadata": {},
   "outputs": [],
   "source": [
    "result = []\n",
    "failed = []"
   ]
  },
  {
   "cell_type": "code",
   "execution_count": 42,
   "id": "c9bb19e5",
   "metadata": {},
   "outputs": [
    {
     "name": "stderr",
     "output_type": "stream",
     "text": [
      "C:\\Users\\divyank\\anaconda3\\lib\\site-packages\\urllib3\\connectionpool.py:1013: InsecureRequestWarning: Unverified HTTPS request is being made to host 'chennai.vit.ac.in'. Adding certificate verification is strongly advised. See: https://urllib3.readthedocs.io/en/latest/advanced-usage.html#ssl-warnings\n",
      "  warnings.warn(\n",
      "C:\\Users\\divyank\\anaconda3\\lib\\site-packages\\urllib3\\connectionpool.py:1013: InsecureRequestWarning: Unverified HTTPS request is being made to host 'careers.vit.ac.in'. Adding certificate verification is strongly advised. See: https://urllib3.readthedocs.io/en/latest/advanced-usage.html#ssl-warnings\n",
      "  warnings.warn(\n",
      "C:\\Users\\divyank\\anaconda3\\lib\\site-packages\\urllib3\\connectionpool.py:1013: InsecureRequestWarning: Unverified HTTPS request is being made to host 'vittbi.com'. Adding certificate verification is strongly advised. See: https://urllib3.readthedocs.io/en/latest/advanced-usage.html#ssl-warnings\n",
      "  warnings.warn(\n",
      "C:\\Users\\divyank\\anaconda3\\lib\\site-packages\\urllib3\\connectionpool.py:1013: InsecureRequestWarning: Unverified HTTPS request is being made to host 'careers.vit.ac.in'. Adding certificate verification is strongly advised. See: https://urllib3.readthedocs.io/en/latest/advanced-usage.html#ssl-warnings\n",
      "  warnings.warn(\n"
     ]
    }
   ],
   "source": [
    "for link in validLinks :\n",
    "    try :\n",
    "        page = requests.get(link).text\n",
    "    except requests.ConnectionError :\n",
    "        try :\n",
    "            page = requests.get(link, verify=False).text\n",
    "        except :\n",
    "            failed.append(link)\n",
    "            continue\n",
    "    \n",
    "    if (re.search(searchWord1, page, re.IGNORECASE)) and (not re.search(searchWord2, page, re.IGNORECASE)) :\n",
    "            result.append(link)"
   ]
  },
  {
   "cell_type": "code",
   "execution_count": 45,
   "id": "6ccbe7fc",
   "metadata": {},
   "outputs": [
    {
     "name": "stdout",
     "output_type": "stream",
     "text": [
      "The links in the root URL page which contains the word 'Programme' but not the word 'programming' are :\n",
      "\t http://chennai.vit.ac.in/\n",
      "\t https://vitap.ac.in/\n",
      "\t https://vitbhopal.ac.in/\n",
      "\t https://vit.ac.in\n",
      "\t https://vit.ac.in/about-vit\n",
      "\t https://vit.ac.in/about/vision-mission\n",
      "\t https://vit.ac.in/vit-milestones\n",
      "\t https://vit.ac.in/about/leadership\n",
      "\t https://vit.ac.in/governance\n",
      "\t https://vit.ac.in/about/administrative-offices\n",
      "\t https://vit.ac.in/about/infrastructure\n",
      "\t https://vit.ac.in/about/ranking-and-accreditation\n",
      "\t https://vit.ac.in/about/sustainability\n",
      "\t https://vit.ac.in/true-green\n",
      "\t https://vit.ac.in/about/community-outreach\n",
      "\t https://vit.ac.in/about/communityradio\n",
      "\t https://vit.ac.in/all-news-archieved\n",
      "\t https://vit.ac.in/national-institutional-ranking-framework-nirf\n",
      "\t https://vit.ac.in/mhrdugc\n",
      "\t https://vit.ac.in/about/news-letter\n",
      "\t https://vit.ac.in/academics/home\n",
      "\t https://vit.ac.in/sites/default/files/academic/Academic-Regulations.pdf\n",
      "\t https://vit.ac.in/programmes-offered-1\n",
      "\t https://vit.ac.in/programmes-offered-2021-22\n",
      "\t https://vit.ac.in/programmes-offered-2020-21\n",
      "\t https://vit.ac.in/schools\n",
      "\t https://vit.ac.in/academics/ffcs\n",
      "\t https://vit.ac.in/academics/library\n",
      "\t https://vit.ac.in/academics-feedback\n",
      "\t https://vit.ac.in/admissions/overview\n",
      "\t https://vit.ac.in/admissions/programmes-offered\n",
      "\t https://vit.ac.in/all-courses/ug\n",
      "\t https://vit.ac.in/all-courses/pg\n",
      "\t https://vit.ac.in/admissions/research\n",
      "\t https://vit.ac.in/admissions/research/Integrated_Ph.D\n",
      "\t https://vit.ac.in/admissions/research/phd\n",
      "\t https://vit.ac.in/admissions/international\n",
      "\t https://vit.ac.in/stars-support-advancement-rural-students-0\n",
      "\t https://vit.ac.in/placements/overview\n",
      "\t https://vit.ac.in/career-development-centre\n",
      "\t https://vit.ac.in/placements/superdreamoffers\n",
      "\t https://vit.ac.in/placements/dreamoffers\n",
      "\t https://vit.ac.in/placements/internship\n",
      "\t https://vit.ac.in/placements/statistics\n",
      "\t https://vit.ac.in/placements/pat-Office\n",
      "\t https://vit.ac.in/placements/contact-us\n",
      "\t https://vit.ac.in/InternationalRelations\n",
      "\t https://vit.ac.in/internationalrelations/itp\n",
      "\t https://vit.ac.in/internationalrelations/partneruniversities\n",
      "\t https://vit.ac.in/internationalrelations/sap\n",
      "\t https://vit.ac.in/admissions/international/overview\n",
      "\t https://vit.ac.in/academics-more/Contact us\n",
      "\t https://vit.ac.in/research\n",
      "\t https://vit.ac.in/research/academic\n",
      "\t https://vit.ac.in/research/sponsored-research\n",
      "\t https://vit.ac.in/iprcell\n",
      "\t https://vit.ac.in/research/centers-list\n",
      "\t https://vit.ac.in/campuslife/overview\n",
      "\t https://vit.ac.in/campuslife/fests\n",
      "\t https://vit.ac.in/campuslife/studentswelfare\n",
      "\t https://vit.ac.in/campus-category/Clubs\n",
      "\t https://vit.ac.in/campus-category/Chapters\n",
      "\t https://vit.ac.in/campus-category/Campus-Events\n",
      "\t https://vit.ac.in/campus-category/Counselling-Division\n",
      "\t https://vit.ac.in/campus-category/grievancecell\n",
      "\t https://vit.ac.in/campus-category/Student-Council\n",
      "\t https://vit.ac.in/campuslife/sports\n",
      "\t https://vit.ac.in/campuslife/hostels\n",
      "\t https://vit.ac.in/campuslife/healthservices\n",
      "\t https://vit.ac.in/campuslife/otheramenities\n",
      "\t https://vit.ac.in/detailview/green-vit\n",
      "\t https://vit.ac.in/vitol/\n",
      "\t https://vit.ac.in/academics/coe\n",
      "\t https://vit.ac.in/transcripts-alumni\n",
      "\t https://vit.ac.in/coe-email-contacts\n",
      "\t https://vit.ac.in/centers/asc\n",
      "\t http://www.vittbi.com/#/\n",
      "\t https://vit.ac.in/guest-house\n",
      "\t https://vit.ac.in/redressal\n",
      "\t https://vit.ac.in/hotels-in-vellore\n",
      "\t https://vit.ac.in/anti-ragging-committee\n",
      "\t https://vit.ac.in/capability-enhancement-scheme\n",
      "\t https://vit.ac.in/sites/default/files/FormatGuidelines.doc\n",
      "\t https://vit.ac.in/internal-complaints-committee\n",
      "\t https://vit.ac.in/alumni_progression\n",
      "\t https://vit.ac.in/academics/transcripts\n",
      "\t https://vit.ac.in/instruction\n",
      "\t https://vit.ac.in/alumni-events\n",
      "\t https://vit.ac.in/detailview/alumni-photo-gallery\n",
      "\t https://vit.ac.in/alumni-office-contact\n",
      "\t https://www.youtube.com/c/VITUniversityVellore\n",
      "\t https://vit.ac.in/school-electronics-engineering-sense/3-days-online-workshop-thin-film-deposition-and-device\n",
      "\t https://vit.ac.in/general/online-workshop-analytical-instruments-hplc-and-uplc-0\n",
      "\t https://vit.ac.in/vit-school-agricultural-innovations-and-advanced-learning-vaial/national-farmers-day-2021\n",
      "\t https://vit.ac.in/vit-business-school-vit-bs/vit-business-school-management-fest-2022\n",
      "\t https://vit.ac.in/school-electronics-engineering-sense/second-international-conference-artificial-intelligence\n",
      "\t https://vit.ac.in/school-mechanical-engineeringsmec/27th-national-conference-internal-combustion-engines-and\n",
      "\t https://vit.ac.in/all-courses/pg/master-of-business-administration\n",
      "\t https://vit.ac.in/phd-vacancy-positions-list\n",
      "\t https://www.youtube.com/watch?v=JzDMjJIqM_s\n",
      "\t https://vit.ac.in/detailview/36th-convocation-photos\n",
      "\t https://vit.ac.in/vit-institution-eminence-ioe\n",
      "\t https://vit.ac.in/ariia-award\n",
      "\t https://vit.ac.in/qs-ranks-vit-one-among-top-12-institutions-india-engineering-and-technology\n",
      "\t https://vit.ac.in/vit-only-private-institution-india-shanghai-ranking-2021\n",
      "\t https://vit.ac.in/vit-university-sets-record-limca-book-records\n",
      "\t https://vit.ac.in/vit-student-won-gold-medal-archery-event-5th-pykka-national-games-held-jaipur\n",
      "\t https://vit.ac.in/36th-annual-convocation-0\n",
      "\t https://vit.ac.in/agrivaial-imparts-training-students-about-use-drones-organic-farming\n",
      "\t https://vit.ac.in/birth-anniversary-periyar-ev-ramasamy-0\n",
      "\t https://vit.ac.in/galleries\n",
      "\t https://vit.ac.in/video\n",
      "\t https://vit.ac.in/campus-hostel/hostels\n",
      "\t https://vit.ac.in/sitemap/\n",
      "\t https://vit.ac.in/academics/iqac\n",
      "\t http://www.mhrdnats.gov.in/\n",
      "\t https://vit.ac.in/contactus\n",
      "\t https://vit.ac.in/guesthouse/\n"
     ]
    }
   ],
   "source": [
    "print(\"The links in the root URL page which contains the word 'Programme' but not the word 'programming' are :\")\n",
    "for url in result :\n",
    "    print(\"\\t\", url)"
   ]
  },
  {
   "cell_type": "code",
   "execution_count": 46,
   "id": "3f9e8a31",
   "metadata": {},
   "outputs": [
    {
     "name": "stdout",
     "output_type": "stream",
     "text": [
      "The links that we failed to open are : \n",
      "\t http://intranet.vit.ac.in\n",
      "\t http://intranet.vit.ac.in/\n"
     ]
    }
   ],
   "source": [
    "print(\"The links that we failed to open are : \")\n",
    "for url in failed :\n",
    "    print(\"\\t\", url)"
   ]
  },
  {
   "cell_type": "code",
   "execution_count": null,
   "id": "47f3ba79",
   "metadata": {},
   "outputs": [],
   "source": [
    "#Question 4\n",
    "#Write a web crawler program which takes as input a url (Educational website) and a search key word and maximum number of pages (15-20 Pages)  to be searched and returns as output all the web pages it searched till it found the search word on a web page or return failure.\n",
    "#www.annauniv.edu\n",
    "#hostel\n",
    "#16\n"
   ]
  },
  {
   "cell_type": "code",
   "execution_count": 47,
   "id": "922aea62",
   "metadata": {},
   "outputs": [],
   "source": [
    "import requests\n",
    "from bs4 import BeautifulSoup\n",
    "import re"
   ]
  },
  {
   "cell_type": "code",
   "execution_count": 48,
   "id": "fe0309e9",
   "metadata": {},
   "outputs": [
    {
     "name": "stdout",
     "output_type": "stream",
     "text": [
      "Enter URL: https://www.annauniv.edu\n",
      "Enter Search Word: hostel\n",
      "Enter the number of pages: 16\n"
     ]
    }
   ],
   "source": [
    "root_URL = input(\"Enter URL: \") \n",
    "searchWord = input(\"Enter Search Word: \") \n",
    "npages = int(input(\"Enter the number of pages: \"))"
   ]
  },
  {
   "cell_type": "code",
   "execution_count": 49,
   "id": "20f3b0d2",
   "metadata": {},
   "outputs": [
    {
     "name": "stdout",
     "output_type": "stream",
     "text": [
      "Status of the response :  200\n"
     ]
    }
   ],
   "source": [
    "response = requests.get(root_URL) \n",
    "print(\"Status of the response : \", response.status_code)"
   ]
  },
  {
   "cell_type": "code",
   "execution_count": 50,
   "id": "15431b45",
   "metadata": {},
   "outputs": [],
   "source": [
    "root_page = BeautifulSoup(response.content, 'html.parser')"
   ]
  },
  {
   "cell_type": "code",
   "execution_count": 51,
   "id": "e4f50a74",
   "metadata": {},
   "outputs": [],
   "source": [
    "anchor_tags = root_page.find_all('a')"
   ]
  },
  {
   "cell_type": "code",
   "execution_count": 52,
   "id": "b755a05f",
   "metadata": {},
   "outputs": [],
   "source": [
    "result = [] "
   ]
  },
  {
   "cell_type": "code",
   "execution_count": 53,
   "id": "7e7197b6",
   "metadata": {},
   "outputs": [],
   "source": [
    "word_found=0\n",
    "for anchor_tag in anchor_tags: \n",
    "    link = anchor_tag['href'] \n",
    "    while(word_found==0 and npages > 0):\n",
    "        npages = npages-1\n",
    "        result.append(link);\n",
    "    \n",
    "    if (re.search(searchWord, page, re.IGNORECASE)):\n",
    "        result.append(link)\n",
    "        word_found=1\n",
    "        break\n",
    "    else:\n",
    "        continue\n",
    "if(word_found==0):\n",
    "    result= [\"Failure\"]"
   ]
  },
  {
   "cell_type": "code",
   "execution_count": 54,
   "id": "6f2f21d6",
   "metadata": {},
   "outputs": [
    {
     "name": "stdout",
     "output_type": "stream",
     "text": [
      "The links in the root URL page which contains the word are :\n",
      "\t http://www.annauniv.edu/index.php\n",
      "\t http://www.annauniv.edu/index.php\n",
      "\t http://www.annauniv.edu/index.php\n",
      "\t http://www.annauniv.edu/index.php\n",
      "\t http://www.annauniv.edu/index.php\n",
      "\t http://www.annauniv.edu/index.php\n",
      "\t http://www.annauniv.edu/index.php\n",
      "\t http://www.annauniv.edu/index.php\n",
      "\t http://www.annauniv.edu/index.php\n",
      "\t http://www.annauniv.edu/index.php\n",
      "\t http://www.annauniv.edu/index.php\n",
      "\t http://www.annauniv.edu/index.php\n",
      "\t http://www.annauniv.edu/index.php\n",
      "\t http://www.annauniv.edu/index.php\n",
      "\t http://www.annauniv.edu/index.php\n",
      "\t http://www.annauniv.edu/index.php\n",
      "\t http://www.annauniv.edu/index.php\n"
     ]
    }
   ],
   "source": [
    "print(\"The links in the root URL page which contains the word are :\") \n",
    "for url in result: \n",
    "    print(\"\\t\", url)"
   ]
  },
  {
   "cell_type": "code",
   "execution_count": null,
   "id": "fd49c465",
   "metadata": {},
   "outputs": [],
   "source": []
  }
 ],
 "metadata": {
  "kernelspec": {
   "display_name": "Python 3",
   "language": "python",
   "name": "python3"
  },
  "language_info": {
   "codemirror_mode": {
    "name": "ipython",
    "version": 3
   },
   "file_extension": ".py",
   "mimetype": "text/x-python",
   "name": "python",
   "nbconvert_exporter": "python",
   "pygments_lexer": "ipython3",
   "version": "3.8.8"
  }
 },
 "nbformat": 4,
 "nbformat_minor": 5
}
