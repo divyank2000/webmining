{
 "cells": [
  {
   "cell_type": "code",
   "execution_count": 2,
   "id": "b905840a",
   "metadata": {},
   "outputs": [
    {
     "name": "stdout",
     "output_type": "stream",
     "text": [
      "Run Length Encoding of eeeeeeerrrrrrrrrrrrrrrrttttttttttttttiiiiiiiifffffeft  =  e7r16t14i8f5e1f1"
     ]
    }
   ],
   "source": [
    "st = \"eeeeeeerrrrrrrrrrrrrrrrttttttttttttttiiiiiiiifffffeft\"\n",
    "print(\"Run Length Encoding of\", st, \" = \", end=\" \")\n",
    "n = len(st)\n",
    "i = 0\n",
    "while i < n- 1:\n",
    "\tcount = 1\n",
    "\twhile (i < n - 1 and\n",
    "\t\tst[i] == st[i + 1]):\n",
    "\t\tcount += 1\n",
    "\t\ti += 1\n",
    "\ti += 1\n",
    "\tprint(st[i - 1] + str(count), end = \"\")"
   ]
  },
  {
   "cell_type": "code",
   "execution_count": 3,
   "id": "65c59cb2",
   "metadata": {},
   "outputs": [
    {
     "name": "stdout",
     "output_type": "stream",
     "text": [
      "Before encoding: Mercury [15, [1, 2, 3, 7, 9, 10]]\n",
      "After encoding: Mercury [15, ['1', '10', '11', '111', '1001', '1010']]\n"
     ]
    }
   ],
   "source": [
    "dict={'Samsung':[233,[2, 12, 34544, 34574, 35569]],'Airtel':[12,[12, 17, 25, 148, 156, 159, 172]],'Mercury':[15,[1, 2, 3, 7, 9, 10]],'Venus':[12,[23, 45, 78, 122, 145]],'Fiber':[6,[1, 3, 5, 7, 19, 20]]}\n",
    "dict\n",
    "print('Before encoding: Mercury',dict['Mercury'])\n",
    "for j in range(len(dict['Mercury'][1])):\n",
    "  b=bin(dict['Mercury'][1][j])\n",
    "  dict['Mercury'][1][j]=b[2:]\n",
    "  \n",
    "print('After encoding: Mercury',dict['Mercury'])"
   ]
  },
  {
   "cell_type": "code",
   "execution_count": 5,
   "id": "c8d364eb",
   "metadata": {},
   "outputs": [
    {
     "name": "stdout",
     "output_type": "stream",
     "text": [
      "Unary Coding for Fiber =  10 1110 111110 11111110 11111111111111111110 111111111111111111110 "
     ]
    }
   ],
   "source": [
    "arr = [1,3,5,7,19,20]\n",
    "print(\"Unary Coding for Fiber = \", end=\" \")\n",
    "for N in arr:\n",
    "\tA = []\n",
    "\tfor i in range(N):\n",
    "\t\tA.append(1)\n",
    "\tA.append(0)\n",
    "\tB = [str(k) for k in A]\n",
    "\tC = \"\".join(B)\n",
    "\tprint(C, end=\" \")"
   ]
  },
  {
   "cell_type": "code",
   "execution_count": 6,
   "id": "9d9aa89a",
   "metadata": {},
   "outputs": [],
   "source": [
    "from math import log\n",
    "log2=lambda x:log(x,2)\n",
    "def Unary(x):\n",
    "    return (x-1)*'0'+'1'\n",
    "\n",
    "def Binary(x, l=1):\n",
    "    s='{0:0%db}'%l\n",
    "    return s.format(x)\n",
    "      \n",
    "def Elias_Gamma(x):\n",
    "    if(x==0): \n",
    "        return '0'\n",
    "  \n",
    "    n=1+int(log2(x))\n",
    "    b=x-2**(int(log2(x)))\n",
    "  \n",
    "    l=int(log2(x))\n",
    "  \n",
    "    return Unary(n)+Binary(b,l)"
   ]
  },
  {
   "cell_type": "code",
   "execution_count": 7,
   "id": "c72bcf4f",
   "metadata": {},
   "outputs": [
    {
     "name": "stdout",
     "output_type": "stream",
     "text": [
      "Before encoding: Airtel [12, [12, 17, 25, 148, 156, 159, 172]]\n",
      "After encoding: Airtel [12, ['0001100', '000010001', '000011001', '000000010010100', '000000010011100', '000000010011111', '000000010101100']]\n"
     ]
    }
   ],
   "source": [
    "print('Before encoding: Airtel',dict['Airtel'])\n",
    "for j in range(len(dict['Airtel'][1])):\n",
    "  b=Elias_Gamma(dict['Airtel'][1][j])\n",
    "  dict['Airtel'][1][j]=b\n",
    "  \n",
    "print('After encoding: Airtel',dict['Airtel'])"
   ]
  },
  {
   "cell_type": "code",
   "execution_count": 10,
   "id": "2b75879e",
   "metadata": {},
   "outputs": [
    {
     "name": "stdout",
     "output_type": "stream",
     "text": [
      "Elias Delta Decoding for 00101001 =  3\n"
     ]
    }
   ],
   "source": [
    "import math\n",
    "\n",
    "def Elias_Delta_Decoding(x):\n",
    "\tx = list(x)\n",
    "\tL = 0\n",
    "\twhile True:\n",
    "\t\tif not x[L] == '0':\n",
    "\t\t\tbreak\n",
    "\t\tL = L + 1\n",
    "\tx = x[2*L+1:]\n",
    "\tx.reverse()\n",
    "\tx.insert(0, '1')\n",
    "\tn = 0\n",
    "\tfor i in range(len(x)):\n",
    "\t\tif x[i] == '1':\n",
    "\t\t\tn = n+math.pow(2, i)\n",
    "\treturn int(n)\n",
    "\n",
    "x = '00101001'\n",
    "print(\"Elias Delta Decoding for 00101001 = \", Elias_Delta_Decoding(x))"
   ]
  },
  {
   "cell_type": "code",
   "execution_count": 13,
   "id": "61a2fd32",
   "metadata": {},
   "outputs": [
    {
     "name": "stdout",
     "output_type": "stream",
     "text": [
      "Before encoding: Venus [12, [23, 45, 78, 122, 145]]\n",
      "After encoding: Venus [12, ['001010111', '0011001101', '00111001110', '00111111010', '00010000010001']]\n"
     ]
    }
   ],
   "source": [
    "from math import floor\n",
    "def no_msb(x):\n",
    "    binary = \"{0:b}\".format(int(x))\n",
    "    bin_no_msb = binary[1:]\n",
    "    return bin_no_msb\n",
    "\n",
    "def gam_enc(k):\n",
    "    if (k == 0):\n",
    "        return '0'\n",
    "    N = 1 + floor(log(k, 2))\n",
    "    Unary = (N-1)*'0'+'1'\n",
    "    return Unary + no_msb(k)\n",
    "\n",
    "def del_enc(x):\n",
    "    Gamma = gam_enc(1 + floor(log(x, 2)))\n",
    "    binary_without_MSB = no_msb(x)\n",
    "    return Gamma+binary_without_MSB\n",
    "    \n",
    "print('Before encoding: Venus',dict['Venus'])\n",
    "for j in range(len(dict['Venus'][1])):\n",
    "  b=del_enc(dict['Venus'][1][j])\n",
    "  dict['Venus'][1][j]=b\n",
    "  \n",
    "print('After encoding: Venus',dict['Venus'])"
   ]
  },
  {
   "cell_type": "code",
   "execution_count": 16,
   "id": "e7bbd363",
   "metadata": {},
   "outputs": [
    {
     "name": "stdout",
     "output_type": "stream",
     "text": [
      "Elias Delta Decoding for 00101001 =  3.0\n"
     ]
    }
   ],
   "source": [
    "x = '00101001'\n",
    "x = list(x)\n",
    "L = 0\n",
    "while True:\n",
    "\tif not x[L] == '0':\n",
    "\t\tbreak\n",
    "\tL = L + 1\n",
    "x = x[2*L+1:]\n",
    "x.reverse()\n",
    "x.insert(0, '1')\n",
    "n = 0\n",
    "for i in range(len(x)):\n",
    "\tif x[i] == '1':\n",
    "\t\tn = n+math.pow(2, i)\n",
    "print(\"Elias Delta Decoding for 00101001 = \", n)"
   ]
  },
  {
   "cell_type": "code",
   "execution_count": 15,
   "id": "56121e98",
   "metadata": {},
   "outputs": [
    {
     "name": "stdout",
     "output_type": "stream",
     "text": [
      "Variable Byte Encoding for Samsung =  00000100 1010001101111089000 8988911100 8991011088910 "
     ]
    }
   ],
   "source": [
    "def toBinary(number):\n",
    "    bin_num = bin(number)\n",
    "    bin_num = bin_num[2:]\n",
    "    return bin_num\n",
    "\n",
    "def variableByteEncoding(number):\n",
    "    s = toBinary(number)\n",
    "    result = \"\"\n",
    "\n",
    "    while len(s) > 0:\n",
    "        if len(s) > 7:\n",
    "            term = s[-7:]\n",
    "            s = s[:-7]\n",
    "        else:\n",
    "            term = s\n",
    "            s = \"\"\n",
    "            term = (\"0\" * (7 - len(term))) + term\n",
    "\n",
    "        if len(result) == 0:\n",
    "            result = term + \"0\"\n",
    "        else:\n",
    "            result = term + \"1\" + result\n",
    "    return result\n",
    "\n",
    "print(\"Variable Byte Encoding for Samsung = \", end=\" \")\n",
    "Samsung = [2, 12, 34544, 34574, 35569]\n",
    "for i in range(len(Samsung)-1):\n",
    "    if i == 0:\n",
    "        print(variableByteEncoding(Samsung[i]), end=\" \")\n",
    "    else:\n",
    "        x = int(variableByteEncoding(Samsung[i+1]))\n",
    "        y = int(variableByteEncoding(Samsung[i]))\n",
    "        print(x - y, end=\" \")"
   ]
  },
  {
   "cell_type": "code",
   "execution_count": null,
   "id": "d0f8d18d",
   "metadata": {},
   "outputs": [],
   "source": []
  }
 ],
 "metadata": {
  "kernelspec": {
   "display_name": "Python 3",
   "language": "python",
   "name": "python3"
  },
  "language_info": {
   "codemirror_mode": {
    "name": "ipython",
    "version": 3
   },
   "file_extension": ".py",
   "mimetype": "text/x-python",
   "name": "python",
   "nbconvert_exporter": "python",
   "pygments_lexer": "ipython3",
   "version": "3.8.8"
  }
 },
 "nbformat": 4,
 "nbformat_minor": 5
}
