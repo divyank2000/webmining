{
 "cells": [
  {
   "cell_type": "code",
   "execution_count": 1,
   "id": "fa36ece4",
   "metadata": {},
   "outputs": [],
   "source": [
    "import math\n",
    "import re\n",
    "import nltk\n",
    "import string"
   ]
  },
  {
   "cell_type": "code",
   "execution_count": 2,
   "id": "be8be132",
   "metadata": {},
   "outputs": [],
   "source": [
    "from nltk.tokenize import word_tokenize\n",
    "from nltk.corpus import stopwords"
   ]
  },
  {
   "cell_type": "code",
   "execution_count": 3,
   "id": "30d95ded",
   "metadata": {},
   "outputs": [
    {
     "name": "stderr",
     "output_type": "stream",
     "text": [
      "[nltk_data] Downloading package punkt to\n",
      "[nltk_data]     C:\\Users\\divyank\\AppData\\Roaming\\nltk_data...\n",
      "[nltk_data]   Unzipping tokenizers\\punkt.zip.\n"
     ]
    },
    {
     "data": {
      "text/plain": [
       "True"
      ]
     },
     "execution_count": 3,
     "metadata": {},
     "output_type": "execute_result"
    }
   ],
   "source": [
    "nltk.download(\"punkt\")"
   ]
  },
  {
   "cell_type": "code",
   "execution_count": 4,
   "id": "771aba16",
   "metadata": {},
   "outputs": [
    {
     "name": "stdout",
     "output_type": "stream",
     "text": [
      "['Selenium is a portable framework for testing web applications', 'Beautiful Soup is useful for web scraping', 'It is a python package for parsing the pages', 'Java programming can be used for web applications', 'scraping web and crawling web is useful']\n"
     ]
    }
   ],
   "source": [
    "documents = [\"Selenium is a portable framework for testing web applications\",\n",
    "\"Beautiful Soup is useful for web scraping\",\n",
    "\"It is a python package for parsing the pages\",\n",
    "\"Java programming can be used for web applications\",\n",
    "\"scraping web and crawling web is useful\"]\n",
    "print(documents)"
   ]
  },
  {
   "cell_type": "code",
   "execution_count": 13,
   "id": "5575e5f8",
   "metadata": {},
   "outputs": [],
   "source": [
    "def textprep(text):\n",
    "    s1 = text\n",
    "    s1 = s1.lower()\n",
    "    s1 = s1.replace('/[^A-Za-z0-9]/g', '')\n",
    "    s1 = s1.strip()\n",
    "    words = word_tokenize(s1)\n",
    "    stop_words = set(stopwords.words('english'))\n",
    "    words = [word for word in words if word not in stop_words]\n",
    "    return words"
   ]
  },
  {
   "cell_type": "code",
   "execution_count": 6,
   "id": "c8646125",
   "metadata": {},
   "outputs": [
    {
     "name": "stderr",
     "output_type": "stream",
     "text": [
      "[nltk_data] Downloading package punkt to\n",
      "[nltk_data]     C:\\Users\\divyank\\AppData\\Roaming\\nltk_data...\n",
      "[nltk_data]   Package punkt is already up-to-date!\n",
      "[nltk_data] Downloading package stopwords to\n",
      "[nltk_data]     C:\\Users\\divyank\\AppData\\Roaming\\nltk_data...\n",
      "[nltk_data]   Unzipping corpora\\stopwords.zip.\n"
     ]
    },
    {
     "data": {
      "text/plain": [
       "True"
      ]
     },
     "execution_count": 6,
     "metadata": {},
     "output_type": "execute_result"
    }
   ],
   "source": [
    "nltk.download(\"punkt\")\n",
    "nltk.download('stopwords')"
   ]
  },
  {
   "cell_type": "code",
   "execution_count": 7,
   "id": "e531a3f2",
   "metadata": {},
   "outputs": [],
   "source": [
    "def find(text, word) :\n",
    "    text = text.replace('/[^A-Za-z0-9]/g', '')\n",
    "    text = text.replace(' ', ' ')\n",
    "    text = text.lower()\n",
    "    text_words = text.strip().split()\n",
    "    word_count = 0\n",
    "    word_positions = []\n",
    "    for i in range(len(text_words)) :\n",
    "        if word == text_words[i] :\n",
    "            word_count += 1\n",
    "            word_positions.append(i)\n",
    "    return (word_count, word_positions)"
   ]
  },
  {
   "cell_type": "code",
   "execution_count": 14,
   "id": "177f63ac",
   "metadata": {},
   "outputs": [],
   "source": [
    "inverted_index = {}\n",
    "for (i, doc) in enumerate(documents) :\n",
    "    words = textprep(doc)\n",
    "    for word in words :\n",
    "        if word not in inverted_index :\n",
    "            inverted_index[word] = []\n",
    "        count, pos = find(doc, word)\n",
    "        inverted_index[word].append(((i+1),count,pos))"
   ]
  },
  {
   "cell_type": "code",
   "execution_count": 15,
   "id": "0a68fdad",
   "metadata": {},
   "outputs": [
    {
     "name": "stdout",
     "output_type": "stream",
     "text": [
      "inverted_index\n",
      "('selenium', [(1, 1, [0])])\n",
      "('portable', [(1, 1, [3])])\n",
      "('framework', [(1, 1, [4])])\n",
      "('testing', [(1, 1, [6])])\n",
      "('web', [(1, 1, [7]), (2, 1, [5]), (4, 1, [6]), (5, 2, [1, 4]), (5, 2, [1, 4])])\n",
      "('applications', [(1, 1, [8]), (4, 1, [7])])\n",
      "('beautiful', [(2, 1, [0])])\n",
      "('soup', [(2, 1, [1])])\n",
      "('useful', [(2, 1, [3]), (5, 1, [6])])\n",
      "('scraping', [(2, 1, [6]), (5, 1, [0])])\n",
      "('python', [(3, 1, [3])])\n",
      "('package', [(3, 1, [4])])\n",
      "('parsing', [(3, 1, [6])])\n",
      "('pages', [(3, 1, [8])])\n",
      "('java', [(4, 1, [0])])\n",
      "('programming', [(4, 1, [1])])\n",
      "('used', [(4, 1, [4])])\n",
      "('crawling', [(5, 1, [3])])\n"
     ]
    }
   ],
   "source": [
    "print(\"inverted_index\")\n",
    "for index in inverted_index.items():\n",
    "    print(index)"
   ]
  },
  {
   "cell_type": "code",
   "execution_count": 17,
   "id": "ed3fcf39",
   "metadata": {},
   "outputs": [
    {
     "name": "stdout",
     "output_type": "stream",
     "text": [
      "Selenium word position\n",
      "Doc no  no.of times  offset number\n",
      "1    1     [0]\n",
      "web word  position\n",
      "Doc no  no.of times  offset number\n",
      "1     1     [7]\n",
      "2     1     [5]\n",
      "4     1     [6]\n",
      "5     2     [1, 4]\n",
      "5     2     [1, 4]\n"
     ]
    }
   ],
   "source": [
    "##QUESTION 2\n",
    "\n",
    "print(\"Selenium word position\")\n",
    "print(\"Doc no  no.of times  offset number\")\n",
    "for index in inverted_index.items():\n",
    "    if(index[0]==\"selenium\"):\n",
    "        for indexes in index[1]:\n",
    "            print(indexes[0],\"  \",indexes[1],\"   \",indexes[2])\n",
    "print(\"web word  position\")\n",
    "print(\"Doc no  no.of times  offset number\")\n",
    "for index in inverted_index.items():\n",
    "    if(index[0]==\"web\"):\n",
    "        for indexes in index[1]:\n",
    "            print(indexes[0],\"   \",indexes[1],\"   \",indexes[2])"
   ]
  },
  {
   "cell_type": "code",
   "execution_count": 18,
   "id": "46a361f3",
   "metadata": {},
   "outputs": [
    {
     "name": "stdout",
     "output_type": "stream",
     "text": [
      "Soup word position\n",
      "Doc no  no.of times  offset number\n",
      "2    1     [1]\n"
     ]
    }
   ],
   "source": [
    "print(\"Soup word position\")\n",
    "print(\"Doc no  no.of times  offset number\")\n",
    "for index in inverted_index.items():\n",
    "    if(index[0]==\"soup\"):\n",
    "        for indexes in index[1]:\n",
    "            print(indexes[0],\"  \",indexes[1],\"   \",indexes[2])"
   ]
  },
  {
   "cell_type": "code",
   "execution_count": 19,
   "id": "3b43d1c7",
   "metadata": {},
   "outputs": [
    {
     "name": "stdout",
     "output_type": "stream",
     "text": [
      "python word position\n",
      "Doc no  no.of times  offset number\n",
      "3    1     [3]\n",
      "java word  position\n",
      "Doc no  no.of times  offset number\n",
      "4     1     [0]\n"
     ]
    }
   ],
   "source": [
    "\n",
    "print(\"python word position\")\n",
    "print(\"Doc no  no.of times  offset number\")\n",
    "for index in inverted_index.items():\n",
    "    if(index[0]==\"python\"):\n",
    "        for indexes in index[1]:\n",
    "            print(indexes[0],\"  \",indexes[1],\"   \",indexes[2])\n",
    "print(\"java word  position\")\n",
    "print(\"Doc no  no.of times  offset number\")\n",
    "for index in inverted_index.items():\n",
    "    if(index[0]==\"java\"):\n",
    "        for indexes in index[1]:\n",
    "            print(indexes[0],\"   \",indexes[1],\"   \",indexes[2])"
   ]
  },
  {
   "cell_type": "code",
   "execution_count": 23,
   "id": "d81329cc",
   "metadata": {},
   "outputs": [
    {
     "name": "stdout",
     "output_type": "stream",
     "text": [
      "web word position\n",
      "Doc no  no.of times  offset number\n",
      "1    1     [7]\n",
      "2    1     [5]\n",
      "4    1     [6]\n",
      "5    2     [1, 4]\n",
      "5    2     [1, 4]\n",
      "craw word  position\n",
      "Doc no  no.of times  offset number\n"
     ]
    }
   ],
   "source": [
    "\n",
    "print(\"web word position\")\n",
    "print(\"Doc no  no.of times  offset number\")\n",
    "for index in inverted_index.items():\n",
    "    if(index[0]==\"web\"):\n",
    "        for indexes in index[1]:\n",
    "            print(indexes[0],\"  \",indexes[1],\"   \",indexes[2])\n",
    "print(\"craw word  position\")\n",
    "print(\"Doc no  no.of times  offset number\")\n",
    "for index in inverted_index.items():\n",
    "    if(index[0]==\"CRAW\"):\n",
    "        for indexes in index[1]:\n",
    "            print(indexes[0],\"   \",indexes[1],\"   \",indexes[2])"
   ]
  },
  {
   "cell_type": "code",
   "execution_count": null,
   "id": "916531a5",
   "metadata": {},
   "outputs": [],
   "source": []
  }
 ],
 "metadata": {
  "kernelspec": {
   "display_name": "Python 3",
   "language": "python",
   "name": "python3"
  },
  "language_info": {
   "codemirror_mode": {
    "name": "ipython",
    "version": 3
   },
   "file_extension": ".py",
   "mimetype": "text/x-python",
   "name": "python",
   "nbconvert_exporter": "python",
   "pygments_lexer": "ipython3",
   "version": "3.8.8"
  }
 },
 "nbformat": 4,
 "nbformat_minor": 5
}
