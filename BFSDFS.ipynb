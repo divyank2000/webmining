{
 "cells": [
  {
   "cell_type": "code",
   "execution_count": 40,
   "id": "214e6b7f",
   "metadata": {},
   "outputs": [],
   "source": [
    "from urllib.request import urljoin\n",
    "from bs4 import BeautifulSoup\n",
    "import requests\n",
    "from urllib.request import urlparse"
   ]
  },
  {
   "cell_type": "code",
   "execution_count": 42,
   "id": "179d2b7f",
   "metadata": {},
   "outputs": [
    {
     "name": "stdout",
     "output_type": "stream",
     "text": [
      "https://vit.ac.in\n"
     ]
    }
   ],
   "source": [
    "links_intern = set() \n",
    "input_url = input()\n",
    "depth = 2"
   ]
  },
  {
   "cell_type": "code",
   "execution_count": 43,
   "id": "ba609955",
   "metadata": {},
   "outputs": [],
   "source": [
    "links_extern = set()"
   ]
  },
  {
   "cell_type": "code",
   "execution_count": 56,
   "id": "c60b7b0d",
   "metadata": {},
   "outputs": [],
   "source": [
    "def level_rawler (input_url): \n",
    "    temp_urls = set()\n",
    "    current_url_domain= urlparse(input_url).netloc\n",
    "\n",
    "\n",
    "# Creates beautiful soup object to extract html togs \n",
    "    beautiful_soup_object = BeautifulSoup(\n",
    "        requests.get(input_ur1).content, \"1xml\")\n",
    "    \n",
    "\n",
    "# Access all anchor tags from input # url page and divide them into internal\n",
    "\n",
    "# and external categories\n",
    "\n",
    "    for anchor in beautiful_soup_object. findAll(\"a\"):\n",
    "         href=anchor.attrs.get(\"href\")\n",
    "\n",
    "    if(href!=\"\" or href != None): \n",
    "        href= urljoin(input_url, href)\n",
    "        href_parsed = urlparse(href)\n",
    "        href= href_parsed.schene \n",
    "        href += \"://\"\n",
    "        href += href_parsed.netloc\n",
    "        href += href_parsed.path\n",
    "        final_parsed_href= urlparse(href) \n",
    "        is_valid = bool(final_parsed_href.scheme) and bool(\n",
    "            final_parsed_href.netloc) \n",
    "        if is_valid:\n",
    "            if current_url_domain not in href and href not in links_extern:\n",
    "                print(\"Extern - {}\".format(href))\n",
    "                links_extern.add(href)\n",
    "            if current_url_domain in href and href not in links_intern:\n",
    "                print(\"Intern- {}\".format(href)) \n",
    "                links_intern.add(href)\n",
    "                temp_urls.add(href) \n",
    "    return temp_urls\n"
   ]
  },
  {
   "cell_type": "code",
   "execution_count": 58,
   "id": "ceb4a01d",
   "metadata": {},
   "outputs": [
    {
     "ename": "NameError",
     "evalue": "name 'input_ur1' is not defined",
     "output_type": "error",
     "traceback": [
      "\u001b[1;31m---------------------------------------------------------------------------\u001b[0m",
      "\u001b[1;31mNameError\u001b[0m                                 Traceback (most recent call last)",
      "\u001b[1;32m<ipython-input-58-b13bfc343e2f>\u001b[0m in \u001b[0;36m<module>\u001b[1;34m\u001b[0m\n\u001b[0;32m     13\u001b[0m         \u001b[1;32mfor\u001b[0m \u001b[0mcount\u001b[0m \u001b[1;32min\u001b[0m \u001b[0mrange\u001b[0m\u001b[1;33m(\u001b[0m\u001b[0mlen\u001b[0m\u001b[1;33m(\u001b[0m\u001b[0mqueue\u001b[0m\u001b[1;33m)\u001b[0m\u001b[1;33m)\u001b[0m\u001b[1;33m:\u001b[0m\u001b[1;33m\u001b[0m\u001b[1;33m\u001b[0m\u001b[0m\n\u001b[0;32m     14\u001b[0m             \u001b[0murl\u001b[0m\u001b[1;33m=\u001b[0m \u001b[0mqueue\u001b[0m\u001b[1;33m.\u001b[0m\u001b[0mpop\u001b[0m\u001b[1;33m(\u001b[0m\u001b[1;36m0\u001b[0m\u001b[1;33m)\u001b[0m\u001b[1;33m\u001b[0m\u001b[1;33m\u001b[0m\u001b[0m\n\u001b[1;32m---> 15\u001b[1;33m             \u001b[0murls\u001b[0m \u001b[1;33m=\u001b[0m \u001b[0mlevel_rawler\u001b[0m\u001b[1;33m(\u001b[0m\u001b[0murl\u001b[0m\u001b[1;33m)\u001b[0m\u001b[1;33m\u001b[0m\u001b[1;33m\u001b[0m\u001b[0m\n\u001b[0m\u001b[0;32m     16\u001b[0m             \u001b[1;32mfor\u001b[0m \u001b[0mi\u001b[0m \u001b[1;32min\u001b[0m \u001b[0murls\u001b[0m\u001b[1;33m:\u001b[0m\u001b[1;33m\u001b[0m\u001b[1;33m\u001b[0m\u001b[0m\n\u001b[0;32m     17\u001b[0m                 \u001b[0mqueue\u001b[0m\u001b[1;33m.\u001b[0m\u001b[0mappend\u001b[0m\u001b[1;33m(\u001b[0m\u001b[0mi\u001b[0m\u001b[1;33m)\u001b[0m\u001b[1;33m\u001b[0m\u001b[1;33m\u001b[0m\u001b[0m\n",
      "\u001b[1;32m<ipython-input-56-ced4b944c8a8>\u001b[0m in \u001b[0;36mlevel_rawler\u001b[1;34m(input_url)\u001b[0m\n\u001b[0;32m      6\u001b[0m \u001b[1;31m# Creates beautiful soup object to extract html togs\u001b[0m\u001b[1;33m\u001b[0m\u001b[1;33m\u001b[0m\u001b[1;33m\u001b[0m\u001b[0m\n\u001b[0;32m      7\u001b[0m     beautiful_soup_object = BeautifulSoup(\n\u001b[1;32m----> 8\u001b[1;33m         requests.get(input_ur1).content, \"1xml\")\n\u001b[0m\u001b[0;32m      9\u001b[0m \u001b[1;33m\u001b[0m\u001b[0m\n\u001b[0;32m     10\u001b[0m \u001b[1;33m\u001b[0m\u001b[0m\n",
      "\u001b[1;31mNameError\u001b[0m: name 'input_ur1' is not defined"
     ]
    }
   ],
   "source": [
    "if(depth ==0): \n",
    "    print(\"Intern - {}\".format(input_url))\n",
    "elif(depth == 1): \n",
    "    level_rawler(input_url)\n",
    "else:\n",
    "# We have used a BFS approach\n",
    "# considering the structure as a tree. It uses a queue based\n",
    "# approach to traverse\n",
    "# Links upto a particular depth.\n",
    "    queue= []\n",
    "    queue.append(input_url)\n",
    "    for j in range(depth):\n",
    "        for count in range(len(queue)):\n",
    "            url= queue.pop(0)\n",
    "            urls = level_rawler(url) \n",
    "            for i in urls:\n",
    "                queue.append(i)"
   ]
  },
  {
   "cell_type": "code",
   "execution_count": null,
   "id": "28a08517",
   "metadata": {},
   "outputs": [],
   "source": [
    "import requests from bs4 \n",
    "import BeautifulSoup"
   ]
  },
  {
   "cell_type": "code",
   "execution_count": null,
   "id": "c505c8df",
   "metadata": {},
   "outputs": [],
   "source": [
    "def get links_recursive(base, path, visited, max_depth-3, depth=0):\n",
    "if(depth<max_depth):\n",
    "     try: soup-Beautiful Soup (requests.get (base path).text, \"html.parser\") link in soup.find_all(a): href-link.get(\"href\")\n",
    "if href not in visited:\n",
    "    visited.add(href) print(fat depth (depth): (href)\")\n",
    "if href.startswith(\"http\"):\n",
    "    get links recursive (href, \"\", visited, max_depth, depth+1)\n",
    "else:\n",
    "     get_links recursive(base, href, visited, max_depth, depth+1)\n",
    "except: pass"
   ]
  },
  {
   "cell_type": "code",
   "execution_count": null,
   "id": "2bd8aee7",
   "metadata": {},
   "outputs": [],
   "source": [
    "get links recursive(https://geetsforgeeks.org\", , set([\"https://www.geeksforgets.org\"]))"
   ]
  },
  {
   "cell_type": "code",
   "execution_count": null,
   "id": "05db8f7e",
   "metadata": {},
   "outputs": [],
   "source": [
    "pip install google-api-python-client"
   ]
  },
  {
   "cell_type": "code",
   "execution_count": null,
   "id": "71b5b494",
   "metadata": {},
   "outputs": [],
   "source": [
    "api_key= \"AIzaSyB6ZKP5ae2MbJGvhzaċqaxDxCrvvGGBzY\""
   ]
  },
  {
   "cell_type": "code",
   "execution_count": null,
   "id": "c3e761b2",
   "metadata": {},
   "outputs": [],
   "source": [
    "from apiclient.discovery import build"
   ]
  },
  {
   "cell_type": "code",
   "execution_count": null,
   "id": "afdafa80",
   "metadata": {},
   "outputs": [],
   "source": [
    "resource = build(\"customsearch\", vi, developerkey-api_key).cse()"
   ]
  },
  {
   "cell_type": "code",
   "execution_count": null,
   "id": "f3055174",
   "metadata": {},
   "outputs": [],
   "source": [
    "result resource.list (q='python\", cx=\"009557628044748784875:5lejfe73wrw').execute()"
   ]
  },
  {
   "cell_type": "code",
   "execution_count": null,
   "id": "ae639b9e",
   "metadata": {},
   "outputs": [],
   "source": [
    "result[\"items\" ][0]"
   ]
  },
  {
   "cell_type": "code",
   "execution_count": null,
   "id": "0ab3c28e",
   "metadata": {},
   "outputs": [],
   "source": [
    "len(result items])"
   ]
  },
  {
   "cell_type": "code",
   "execution_count": null,
   "id": "582b3f7b",
   "metadata": {},
   "outputs": [],
   "source": [
    "for item in result['ite]:\n",
    "      print(item(\"title\" |\"Mitem[\"link\"])"
   ]
  }
 ],
 "metadata": {
  "kernelspec": {
   "display_name": "Python 3",
   "language": "python",
   "name": "python3"
  },
  "language_info": {
   "codemirror_mode": {
    "name": "ipython",
    "version": 3
   },
   "file_extension": ".py",
   "mimetype": "text/x-python",
   "name": "python",
   "nbconvert_exporter": "python",
   "pygments_lexer": "ipython3",
   "version": "3.8.8"
  }
 },
 "nbformat": 4,
 "nbformat_minor": 5
}
