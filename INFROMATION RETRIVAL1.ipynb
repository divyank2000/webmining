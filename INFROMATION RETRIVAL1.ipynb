{
 "cells": [
  {
   "cell_type": "code",
   "execution_count": 1,
   "id": "78158b7f",
   "metadata": {},
   "outputs": [],
   "source": [
    "import nltk\n",
    "from nltk.corpus import stopwords\n",
    "from nltk.stem import WordNetLemmatizer, PorterStemmer\n",
    "from nltk.tokenize import sent_tokenize , word_tokenize\n",
    "import glob\n",
    "import re\n",
    "import os\n",
    "import numpy as np\n",
    "import sys\n",
    "Stopwords = set(stopwords.words('english'))"
   ]
  },
  {
   "cell_type": "code",
   "execution_count": 2,
   "id": "ff36033b",
   "metadata": {},
   "outputs": [
    {
     "name": "stderr",
     "output_type": "stream",
     "text": [
      "[nltk_data] Downloading package punkt to\n",
      "[nltk_data]     C:\\Users\\divyank\\AppData\\Roaming\\nltk_data...\n",
      "[nltk_data]   Package punkt is already up-to-date!\n",
      "[nltk_data] Downloading package stopwords to\n",
      "[nltk_data]     C:\\Users\\divyank\\AppData\\Roaming\\nltk_data...\n",
      "[nltk_data]   Package stopwords is already up-to-date!\n"
     ]
    },
    {
     "data": {
      "text/plain": [
       "True"
      ]
     },
     "execution_count": 2,
     "metadata": {},
     "output_type": "execute_result"
    }
   ],
   "source": [
    "nltk.download('punkt')\n",
    "nltk.download('stopwords')"
   ]
  },
  {
   "cell_type": "code",
   "execution_count": 3,
   "id": "317d156b",
   "metadata": {},
   "outputs": [],
   "source": [
    "document=[\n",
    "    \"doc1.TXT\",\n",
    "    \"doc2.TXT\",\n",
    "    \"doc3.TXT\",\n",
    "    \"doc4.TXT\",\n",
    "    \"doc5.TXT\"\n",
    "]"
   ]
  },
  {
   "cell_type": "code",
   "execution_count": 4,
   "id": "598551a1",
   "metadata": {},
   "outputs": [],
   "source": [
    "def preprocess(text):\n",
    "    s=text\n",
    "    s=s.lower()\n",
    "    s=s.replace('[A-Za-z0-9]/g','')\n",
    "    s=s.strip()\n",
    "    words=nltk.word_tokenize(s)\n",
    "    stop_words=set(stopwords.words('english'))\n",
    "    words=[word for word in words if word not in stop_words]\n",
    "    return words"
   ]
  },
  {
   "cell_type": "code",
   "execution_count": 5,
   "id": "d931a8f8",
   "metadata": {},
   "outputs": [
    {
     "name": "stdout",
     "output_type": "stream",
     "text": [
      "Information Retrieval Systems is used with database systems\n",
      "Information is in Storage Storage\n",
      "Digital Speech systems can be used in Synthesis and Systems\n",
      "Speech Filtering, Speech Retrieval systems are applications of Information Retrieval\n",
      "Database Management system is used for storage storage\n"
     ]
    }
   ],
   "source": [
    "for(i,doc) in enumerate(document):\n",
    "    f = open(doc, \"r\")\n",
    "    texts=f.read().strip()\n",
    "    print(texts)\n",
    "    words=preprocess(texts)"
   ]
  }
 ],
 "metadata": {
  "kernelspec": {
   "display_name": "Python 3",
   "language": "python",
   "name": "python3"
  },
  "language_info": {
   "codemirror_mode": {
    "name": "ipython",
    "version": 3
   },
   "file_extension": ".py",
   "mimetype": "text/x-python",
   "name": "python",
   "nbconvert_exporter": "python",
   "pygments_lexer": "ipython3",
   "version": "3.8.8"
  }
 },
 "nbformat": 4,
 "nbformat_minor": 5
}
